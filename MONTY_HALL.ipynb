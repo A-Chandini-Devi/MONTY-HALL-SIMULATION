{
  "nbformat": 4,
  "nbformat_minor": 0,
  "metadata": {
    "colab": {
      "provenance": [],
      "authorship_tag": "ABX9TyMonnYsD4N3aVD+oIAqVTlO",
      "include_colab_link": true
    },
    "kernelspec": {
      "name": "python3",
      "display_name": "Python 3"
    },
    "language_info": {
      "name": "python"
    }
  },
  "cells": [
    {
      "cell_type": "markdown",
      "metadata": {
        "id": "view-in-github",
        "colab_type": "text"
      },
      "source": [
        "<a href=\"https://colab.research.google.com/github/A-Chandini-Devi/MONTY-HALL-SIMULATION/blob/main/MONTY_HALL.ipynb\" target=\"_parent\"><img src=\"https://colab.research.google.com/assets/colab-badge.svg\" alt=\"Open In Colab\"/></a>"
      ]
    },
    {
      "cell_type": "markdown",
      "source": [
        "**MONTY HALL PROBLEM**"
      ],
      "metadata": {
        "id": "8C7v84HVYVen"
      }
    },
    {
      "cell_type": "markdown",
      "source": [
        "**Door I cases**\n"
      ],
      "metadata": {
        "id": "9HeTKY-oaTur"
      }
    },
    {
      "cell_type": "code",
      "execution_count": 12,
      "metadata": {
        "colab": {
          "base_uri": "https://localhost:8080/"
        },
        "id": "CUdXGhRgYMa8",
        "outputId": "27300de1-9d40-46a9-9f6f-68f5da1bd13f"
      },
      "outputs": [
        {
          "output_type": "stream",
          "name": "stdout",
          "text": [
            "Which door do you want to choose? (1,2,3): 1\n",
            "We are opening the door number-2\n",
            "Now, do you want to switch to door number-3? (yes/no)\n",
            "yes\n",
            "And your prize is .... GOAT\n"
          ]
        }
      ],
      "source": [
        "import random\n",
        "def play_monty_hall(choice):\n",
        "# Prizes behind the door\n",
        "# initial ordering doesn't matter\n",
        "  prizes = ['goat', 'car', 'goat']\n",
        "# Randomizing the prizes\n",
        "  random.shuffle(prizes)\n",
        "# Determining door without car to open\n",
        "  while True:\n",
        "    opening_door = random.randrange(len(prizes))\n",
        "    if prizes[opening_door] != 'car' and choice-1 != opening_door:\n",
        "      break\n",
        "  opening_door = opening_door + 1\n",
        "  print('We are opening the door number-%d' % (opening_door))\n",
        "# Determining switching door\n",
        "  options = [1,2,3]\n",
        "  options.remove(choice)\n",
        "  options.remove(opening_door)\n",
        "  switching_door = options[0]\n",
        "# Asking for switching the option\n",
        "  print('Now, do you want to switch to door number-%d? (yes/no)' %(switching_door))\n",
        "  answer = input()\n",
        "  if answer == 'yes':\n",
        "     result = switching_door - 1\n",
        "  else:\n",
        "     result = choice - 1\n",
        "# Displaying the player's prize\n",
        "\n",
        "  print('And your prize is ....', prizes[result].upper())\n",
        "\n",
        "# Reading initial choice\n",
        "\n",
        "choice = int(input(\"Which door do you want to choose? (1,2,3): \"))\n",
        "\n",
        "#Playing game\n",
        "\n",
        "play_monty_hall(choice)\n"
      ]
    },
    {
      "cell_type": "code",
      "source": [
        "import random\n",
        "def play_monty_hall(choice):\n",
        "# Prizes behind the door\n",
        "# initial ordering doesn't matter\n",
        "  prizes = ['goat', 'car', 'goat']\n",
        "# Randomizing the prizes\n",
        "  random.shuffle(prizes)\n",
        "# Determining door without car to open\n",
        "  while True:\n",
        "    opening_door = random.randrange(len(prizes))\n",
        "    if prizes[opening_door] != 'car' and choice-1 != opening_door:\n",
        "      break\n",
        "  opening_door = opening_door + 1\n",
        "  print('We are opening the door number-%d' % (opening_door))\n",
        "# Determining switching door\n",
        "  options = [1,2,3]\n",
        "  options.remove(choice)\n",
        "  options.remove(opening_door)\n",
        "  switching_door = options[0]\n",
        "# Asking for switching the option\n",
        "  print('Now, do you want to switch to door number-%d? (yes/no)' %(switching_door))\n",
        "  answer = input()\n",
        "  if answer == 'yes':\n",
        "     result = switching_door - 1\n",
        "  else:\n",
        "     result = choice - 1\n",
        "# Displaying the player's prize\n",
        "\n",
        "  print('And your prize is ....', prizes[result].upper())\n",
        "\n",
        "# Reading initial choice\n",
        "\n",
        "choice = int(input(\"Which door do you want to choose? (1,2,3): \"))\n",
        "\n",
        "#Playing game\n",
        "\n",
        "play_monty_hall(choice)\n"
      ],
      "metadata": {
        "colab": {
          "base_uri": "https://localhost:8080/"
        },
        "id": "uYe7HJ-NZ6UE",
        "outputId": "3f692035-040a-4f29-9cff-c1d0395ce4f9"
      },
      "execution_count": 13,
      "outputs": [
        {
          "output_type": "stream",
          "name": "stdout",
          "text": [
            "Which door do you want to choose? (1,2,3): 1\n",
            "We are opening the door number-3\n",
            "Now, do you want to switch to door number-2? (yes/no)\n",
            "no\n",
            "And your prize is .... GOAT\n"
          ]
        }
      ]
    },
    {
      "cell_type": "markdown",
      "source": [
        "So, There exists no goat in door I. As there is no car when there is no switching of doors and when switched the randomly a door is choosen.\n"
      ],
      "metadata": {
        "id": "x59bohXlbYzK"
      }
    },
    {
      "cell_type": "markdown",
      "source": [
        "**Door II cases**"
      ],
      "metadata": {
        "id": "F1U4XnyYcaxo"
      }
    },
    {
      "cell_type": "code",
      "source": [
        "import random\n",
        "def play_monty_hall(choice):\n",
        "# Prizes behind the door\n",
        "# initial ordering doesn't matter\n",
        "  prizes = ['goat', 'car', 'goat']\n",
        "# Randomizing the prizes\n",
        "  random.shuffle(prizes)\n",
        "# Determining door without car to open\n",
        "  while True:\n",
        "    opening_door = random.randrange(len(prizes))\n",
        "    if prizes[opening_door] != 'car' and choice-1 != opening_door:\n",
        "      break\n",
        "  opening_door = opening_door + 1\n",
        "  print('We are opening the door number-%d' % (opening_door))\n",
        "# Determining switching door\n",
        "  options = [1,2,3]\n",
        "  options.remove(choice)\n",
        "  options.remove(opening_door)\n",
        "  switching_door = options[0]\n",
        "# Asking for switching the option\n",
        "  print('Now, do you want to switch to door number-%d? (yes/no)' %(switching_door))\n",
        "  answer = input()\n",
        "  if answer == 'yes':\n",
        "     result = switching_door - 1\n",
        "  else:\n",
        "     result = choice - 1\n",
        "# Displaying the player's prize\n",
        "\n",
        "  print('And your prize is ....', prizes[result].upper())\n",
        "\n",
        "# Reading initial choice\n",
        "\n",
        "choice = int(input(\"Which door do you want to choose? (1,2,3): \"))\n",
        "\n",
        "#Playing game\n",
        "\n",
        "play_monty_hall(choice)\n"
      ],
      "metadata": {
        "colab": {
          "base_uri": "https://localhost:8080/"
        },
        "id": "zTWy-mqEZoJU",
        "outputId": "da443876-d0ed-49d4-8440-496c66a0bf6d"
      },
      "execution_count": 14,
      "outputs": [
        {
          "output_type": "stream",
          "name": "stdout",
          "text": [
            "Which door do you want to choose? (1,2,3): 2\n",
            "We are opening the door number-3\n",
            "Now, do you want to switch to door number-1? (yes/no)\n",
            "yes\n",
            "And your prize is .... CAR\n"
          ]
        }
      ]
    },
    {
      "cell_type": "code",
      "source": [
        "import random\n",
        "def play_monty_hall(choice):\n",
        "# Prizes behind the door\n",
        "# initial ordering doesn't matter\n",
        "  prizes = ['goat', 'car', 'goat']\n",
        "# Randomizing the prizes\n",
        "  random.shuffle(prizes)\n",
        "# Determining door without car to open\n",
        "  while True:\n",
        "    opening_door = random.randrange(len(prizes))\n",
        "    if prizes[opening_door] != 'car' and choice-1 != opening_door:\n",
        "      break\n",
        "  opening_door = opening_door + 1\n",
        "  print('We are opening the door number-%d' % (opening_door))\n",
        "# Determining switching door\n",
        "  options = [1,2,3]\n",
        "  options.remove(choice)\n",
        "  options.remove(opening_door)\n",
        "  switching_door = options[0]\n",
        "# Asking for switching the option\n",
        "  print('Now, do you want to switch to door number-%d? (yes/no)' %(switching_door))\n",
        "  answer = input()\n",
        "  if answer == 'yes':\n",
        "     result = switching_door - 1\n",
        "  else:\n",
        "     result = choice - 1\n",
        "# Displaying the player's prize\n",
        "\n",
        "  print('And your prize is ....', prizes[result].upper())\n",
        "\n",
        "# Reading initial choice\n",
        "\n",
        "choice = int(input(\"Which door do you want to choose? (1,2,3): \"))\n",
        "\n",
        "#Playing game\n",
        "\n",
        "play_monty_hall(choice)\n"
      ],
      "metadata": {
        "colab": {
          "base_uri": "https://localhost:8080/"
        },
        "id": "fgL-w639avYm",
        "outputId": "08d4e199-0d86-41f4-cd74-a9a317263511"
      },
      "execution_count": 15,
      "outputs": [
        {
          "output_type": "stream",
          "name": "stdout",
          "text": [
            "Which door do you want to choose? (1,2,3): 2\n",
            "We are opening the door number-1\n",
            "Now, do you want to switch to door number-3? (yes/no)\n",
            "no\n",
            "And your prize is .... GOAT\n"
          ]
        }
      ]
    },
    {
      "cell_type": "markdown",
      "source": [
        "In these examples, the car is behind the 2nd door but we can see in the above example the car was behind the 1st door so every time the code is executed the prize is randomly placed."
      ],
      "metadata": {
        "id": "pJSdUXVNfnWy"
      }
    },
    {
      "cell_type": "markdown",
      "source": [
        "**Door III cases**\n"
      ],
      "metadata": {
        "id": "kPhbCe3Laeqc"
      }
    },
    {
      "cell_type": "code",
      "source": [
        "import random\n",
        "def play_monty_hall(choice):\n",
        "# Prizes behind the door\n",
        "# initial ordering doesn't matter\n",
        "  prizes = ['goat', 'car', 'goat']\n",
        "# Randomizing the prizes\n",
        "  random.shuffle(prizes)\n",
        "# Determining door without car to open\n",
        "  while True:\n",
        "    opening_door = random.randrange(len(prizes))\n",
        "    if prizes[opening_door] != 'car' and choice-1 != opening_door:\n",
        "      break\n",
        "  opening_door = opening_door + 1\n",
        "  print('We are opening the door number-%d' % (opening_door))\n",
        "# Determining switching door\n",
        "  options = [1,2,3]\n",
        "  options.remove(choice)\n",
        "  options.remove(opening_door)\n",
        "  switching_door = options[0]\n",
        "# Asking for switching the option\n",
        "  print('Now, do you want to switch to door number-%d? (yes/no)' %(switching_door))\n",
        "  answer = input()\n",
        "  if answer == 'yes':\n",
        "     result = switching_door - 1\n",
        "  else:\n",
        "     result = choice - 1\n",
        "# Displaying the player's prize\n",
        "\n",
        "  print('And your prize is ....', prizes[result].upper())\n",
        "\n",
        "# Reading initial choice\n",
        "\n",
        "choice = int(input(\"Which door do you want to choose? (1,2,3): \"))\n",
        "\n",
        "#Playing game\n",
        "\n",
        "play_monty_hall(choice)\n"
      ],
      "metadata": {
        "colab": {
          "base_uri": "https://localhost:8080/"
        },
        "id": "xgJtf6TDe07p",
        "outputId": "7df38435-1646-41c9-8ff7-8a00e00e18c5"
      },
      "execution_count": 16,
      "outputs": [
        {
          "output_type": "stream",
          "name": "stdout",
          "text": [
            "Which door do you want to choose? (1,2,3): 3\n",
            "We are opening the door number-1\n",
            "Now, do you want to switch to door number-2? (yes/no)\n",
            "yes\n",
            "And your prize is .... CAR\n"
          ]
        }
      ]
    },
    {
      "cell_type": "code",
      "source": [
        "import random\n",
        "def play_monty_hall(choice):\n",
        "# Prizes behind the door\n",
        "# initial ordering doesn't matter\n",
        "  prizes = ['goat', 'car', 'goat']\n",
        "# Randomizing the prizes\n",
        "  random.shuffle(prizes)\n",
        "# Determining door without car to open\n",
        "  while True:\n",
        "    opening_door = random.randrange(len(prizes))\n",
        "    if prizes[opening_door] != 'car' and choice-1 != opening_door:\n",
        "      break\n",
        "  opening_door = opening_door + 1\n",
        "  print('We are opening the door number-%d' % (opening_door))\n",
        "# Determining switching door\n",
        "  options = [1,2,3]\n",
        "  options.remove(choice)\n",
        "  options.remove(opening_door)\n",
        "  switching_door = options[0]\n",
        "# Asking for switching the option\n",
        "  print('Now, do you want to switch to door number-%d? (yes/no)' %(switching_door))\n",
        "  answer = input()\n",
        "  if answer == 'yes':\n",
        "     result = switching_door - 1\n",
        "  else:\n",
        "     result = choice - 1\n",
        "# Displaying the player's prize\n",
        "\n",
        "  print('And your prize is ....', prizes[result].upper())\n",
        "\n",
        "# Reading initial choice\n",
        "\n",
        "choice = int(input(\"Which door do you want to choose? (1,2,3): \"))\n",
        "\n",
        "#Playing game\n",
        "\n",
        "play_monty_hall(choice)\n"
      ],
      "metadata": {
        "colab": {
          "base_uri": "https://localhost:8080/"
        },
        "id": "aVJXqTche896",
        "outputId": "20357866-e39e-4012-b2c1-2abb5dda7472"
      },
      "execution_count": 17,
      "outputs": [
        {
          "output_type": "stream",
          "name": "stdout",
          "text": [
            "Which door do you want to choose? (1,2,3): 3\n",
            "We are opening the door number-2\n",
            "Now, do you want to switch to door number-1? (yes/no)\n",
            "no\n",
            "And your prize is .... CAR\n"
          ]
        }
      ]
    },
    {
      "cell_type": "markdown",
      "source": [
        "As we can see the probability of having a car behind a single door is not fixed from the above examples it is randomized. Thus, achieving the random puzzle criteria with the Random function in Python. From the above examples, we can see that even when the code is executed, it can be either placed behind a different door or the same door it was placed before, which ensures the maximum randomness of this puzzle, making it a suitable game for a brain teaser game."
      ],
      "metadata": {
        "id": "fxt8LH1XfCBN"
      }
    }
  ]
}